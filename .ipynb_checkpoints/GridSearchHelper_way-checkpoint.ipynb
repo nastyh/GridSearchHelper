{
 "cells": [
  {
   "cell_type": "code",
   "execution_count": 1,
   "metadata": {},
   "outputs": [],
   "source": [
    "from GridSearchHelper import EstimatorSelectionHelper\n",
    "import numpy as np\n",
    "import pandas as pd\n",
    "from collections import defaultdict\n",
    "# import matplotlib\n",
    "# import matplotlib.pyplot as plt\n",
    "# import scipy.stats as st\n",
    "# from scipy.stats import norm\n",
    "# import seaborn as sns\n",
    "import datetime\n",
    "# import pandas_profiling\n",
    "from sklearn.model_selection import train_test_split\n",
    "from sklearn.preprocessing import StandardScaler, power_transform\n",
    "from sklearn.linear_model import LinearRegression, Ridge, SGDRegressor\n",
    "from sklearn.svm import SVR, LinearSVR\n",
    "from sklearn.tree import DecisionTreeRegressor\n",
    "from sklearn.ensemble import GradientBoostingRegressor, RandomForestRegressor\n",
    "from sklearn.metrics import mean_squared_error, r2_score, explained_variance_score, median_absolute_error\n",
    "# from sklearn.compose import TransformedTargetRegressor\n",
    "from sklearn.model_selection import GridSearchCV\n",
    "# from sklearn.pipeline import Pipeline, FeatureUnion\n",
    "from sklearn.model_selection import KFold, StratifiedKFold"
   ]
  },
  {
   "cell_type": "markdown",
   "metadata": {},
   "source": [
    "# Comparing models using GridSearchHelper"
   ]
  },
  {
   "cell_type": "markdown",
   "metadata": {},
   "source": [
    "We will perform the same exercise as we did manually but this time using GridSearchHelper().\n",
    "\n",
    "We still need to do loading and (if any) data cleaning and feature engineering manually"
   ]
  },
  {
   "cell_type": "code",
   "execution_count": 2,
   "metadata": {},
   "outputs": [
    {
     "data": {
      "text/plain": [
       "(442,)"
      ]
     },
     "execution_count": 2,
     "metadata": {},
     "output_type": "execute_result"
    }
   ],
   "source": [
    "from sklearn.datasets import load_diabetes\n",
    "\n",
    "X, y = load_diabetes().data, load_diabetes().target\n",
    "\n",
    "X.shape # (442, 10)\n",
    "y.shape # (442,)"
   ]
  },
  {
   "cell_type": "code",
   "execution_count": 3,
   "metadata": {},
   "outputs": [],
   "source": [
    "X_train, X_test, y_train, y_test = train_test_split(X, y, test_size = 0.25, random_state = 18)"
   ]
  },
  {
   "cell_type": "markdown",
   "metadata": {},
   "source": [
    "We instantiate the EstimatorSelectionHelper() class and pass the list of models and parameters to optimize over"
   ]
  },
  {
   "cell_type": "code",
   "execution_count": 4,
   "metadata": {},
   "outputs": [],
   "source": [
    "models = {'regression': LinearRegression(),\\\n",
    "             'ridge': Ridge(),\\\n",
    "             'Stochastic_Descent': SGDRegressor(),\\\n",
    "             'Decision_Tree': DecisionTreeRegressor(),\\\n",
    "             'Random_Forest': RandomForestRegressor()}\n",
    "\n",
    "params = {'regression': {},\\\n",
    "             'ridge': [{'alpha': [0.01, 0.05, 0.1, 0.3, 0.6]}],\\\n",
    "             'Stochastic_Descent': [{'penalty': ['l1', 'l2', 'elasticnet'], 'alpha': [0.00005, 0.0001, 0.0003, 0.0006, 0.001]}],\\\n",
    "             'Decision_Tree': [{'min_samples_split': [2, 3, 4, 5], 'min_samples_leaf': [1, 2, 3], 'max_features': ['auto', 'sqrt', 'log2']}],\\\n",
    "             'Random_Forest': [{'n_estimators': [100, 150, 200, 250], 'min_samples_split': [2, 3, 4, 5], 'min_samples_leaf': [1, 2, 3], 'max_features': ['auto', 'sqrt', 'log2']}]}"
   ]
  },
  {
   "cell_type": "code",
   "execution_count": 5,
   "metadata": {},
   "outputs": [],
   "source": [
    "helper = EstimatorSelectionHelper(models, params)"
   ]
  },
  {
   "cell_type": "markdown",
   "metadata": {},
   "source": [
    "You can access the stored models and parameters anytime:"
   ]
  },
  {
   "cell_type": "code",
   "execution_count": 6,
   "metadata": {},
   "outputs": [
    {
     "data": {
      "text/plain": [
       "{'regression': LinearRegression(),\n",
       " 'ridge': Ridge(),\n",
       " 'Stochastic_Descent': SGDRegressor(),\n",
       " 'Decision_Tree': DecisionTreeRegressor(),\n",
       " 'Random_Forest': RandomForestRegressor()}"
      ]
     },
     "execution_count": 6,
     "metadata": {},
     "output_type": "execute_result"
    }
   ],
   "source": [
    "helper.models"
   ]
  },
  {
   "cell_type": "code",
   "execution_count": 7,
   "metadata": {},
   "outputs": [
    {
     "data": {
      "text/plain": [
       "{'regression': {},\n",
       " 'ridge': [{'alpha': [0.01, 0.05, 0.1, 0.3, 0.6]}],\n",
       " 'Stochastic_Descent': [{'penalty': ['l1', 'l2', 'elasticnet'],\n",
       "   'alpha': [5e-05, 0.0001, 0.0003, 0.0006, 0.001]}],\n",
       " 'Decision_Tree': [{'min_samples_split': [2, 3, 4, 5],\n",
       "   'min_samples_leaf': [1, 2, 3],\n",
       "   'max_features': ['auto', 'sqrt', 'log2']}],\n",
       " 'Random_Forest': [{'n_estimators': [100, 150, 200, 250],\n",
       "   'min_samples_split': [2, 3, 4, 5],\n",
       "   'min_samples_leaf': [1, 2, 3],\n",
       "   'max_features': ['auto', 'sqrt', 'log2']}]}"
      ]
     },
     "execution_count": 7,
     "metadata": {},
     "output_type": "execute_result"
    }
   ],
   "source": [
    "helper.params"
   ]
  },
  {
   "cell_type": "markdown",
   "metadata": {},
   "source": [
    "After that, just call a .fit method. Refer to the manual to see what parameters you can pass."
   ]
  },
  {
   "cell_type": "code",
   "execution_count": null,
   "metadata": {},
   "outputs": [
    {
     "name": "stdout",
     "output_type": "stream",
     "text": [
      "Running GridSearchCV for regression\n",
      "Running GridSearchCV for ridge\n",
      "Running GridSearchCV for Stochastic_Descent\n"
     ]
    },
    {
     "name": "stderr",
     "output_type": "stream",
     "text": [
      "C:\\Users\\mkareev\\Anaconda3\\lib\\site-packages\\sklearn\\linear_model\\_stochastic_gradient.py:1208: ConvergenceWarning: Maximum number of iteration reached before convergence. Consider increasing max_iter to improve the fit.\n",
      "  warnings.warn(\"Maximum number of iteration reached before \"\n"
     ]
    },
    {
     "name": "stdout",
     "output_type": "stream",
     "text": [
      "Running GridSearchCV for Decision_Tree\n",
      "Running GridSearchCV for Random_Forest\n"
     ]
    }
   ],
   "source": [
    "helper.fit(X_train, y_train, scoring = 'r2', n_jobs = -1)"
   ]
  }
 ],
 "metadata": {
  "kernelspec": {
   "display_name": "Python 3",
   "language": "python",
   "name": "python3"
  },
  "language_info": {
   "codemirror_mode": {
    "name": "ipython",
    "version": 3
   },
   "file_extension": ".py",
   "mimetype": "text/x-python",
   "name": "python",
   "nbconvert_exporter": "python",
   "pygments_lexer": "ipython3",
   "version": "3.8.3"
  }
 },
 "nbformat": 4,
 "nbformat_minor": 4
}
